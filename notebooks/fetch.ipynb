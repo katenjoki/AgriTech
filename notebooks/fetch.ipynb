{
 "cells": [
  {
   "cell_type": "code",
   "execution_count": 1,
   "id": "bb971e85-4242-4fc3-aac0-7b21d6ca576b",
   "metadata": {},
   "outputs": [],
   "source": [
    "import json\n",
    "import pandas as pd\n",
    "import pdal\n",
    "import urllib\n",
    "from urllib.request import urlopen\n",
    "import shapely\n",
    "from shapely.geometry import Polygon\n",
    "import geopandas\n",
    "import laspy\n",
    "import rasterio\n",
    "from rasterio.plot import show\n",
    "from rasterio import mask\n",
    "import folium"
   ]
  },
  {
   "cell_type": "code",
   "execution_count": 2,
   "id": "117de1d2-3f8b-4c0b-8d64-d2793b45981d",
   "metadata": {},
   "outputs": [
    {
     "ename": "ModuleNotFoundError",
     "evalue": "No module named 'gdal'",
     "output_type": "error",
     "traceback": [
      "\u001b[0;31m---------------------------------------------------------------------------\u001b[0m",
      "\u001b[0;31mModuleNotFoundError\u001b[0m                       Traceback (most recent call last)",
      "\u001b[0;32m/tmp/ipykernel_4232/3648793768.py\u001b[0m in \u001b[0;36m<module>\u001b[0;34m\u001b[0m\n\u001b[0;32m----> 1\u001b[0;31m \u001b[0;32mimport\u001b[0m \u001b[0mgdal\u001b[0m\u001b[0;34m\u001b[0m\u001b[0;34m\u001b[0m\u001b[0m\n\u001b[0m",
      "\u001b[0;31mModuleNotFoundError\u001b[0m: No module named 'gdal'"
     ]
    }
   ],
   "source": [
    "import gdal"
   ]
  },
  {
   "cell_type": "code",
   "execution_count": 3,
   "id": "51738443-765e-4c42-a8fa-5e6e108e634e",
   "metadata": {},
   "outputs": [
    {
     "ename": "ModuleNotFoundError",
     "evalue": "No module named 'osgeo'",
     "output_type": "error",
     "traceback": [
      "\u001b[0;31m---------------------------------------------------------------------------\u001b[0m",
      "\u001b[0;31mModuleNotFoundError\u001b[0m                       Traceback (most recent call last)",
      "\u001b[0;32m/tmp/ipykernel_4232/466339471.py\u001b[0m in \u001b[0;36m<module>\u001b[0;34m\u001b[0m\n\u001b[0;32m----> 1\u001b[0;31m \u001b[0;32mfrom\u001b[0m \u001b[0mosgeo\u001b[0m \u001b[0;32mimport\u001b[0m \u001b[0mogr\u001b[0m\u001b[0;34m\u001b[0m\u001b[0;34m\u001b[0m\u001b[0m\n\u001b[0m",
      "\u001b[0;31mModuleNotFoundError\u001b[0m: No module named 'osgeo'"
     ]
    }
   ],
   "source": [
    "from osgeo import ogr"
   ]
  },
  {
   "cell_type": "code",
   "execution_count": null,
   "id": "49f29c97-60eb-4d49-91aa-b1b959ab3723",
   "metadata": {},
   "outputs": [],
   "source": [
    "DATASET_PATH = \"https://s3-us-west-2.amazonaws.com/usgs-lidar-public/\"\n",
    "JSON_PATH = \"../data/data_usgs.json\"\n",
    "        \n",
    "def get_data(dataset_path:str,json_path:str):\n",
    "    geo_dict = {'Region':[],\n",
    "                'File_path':[],\n",
    "                'Bounds':[],\n",
    "                'WKT':[]\n",
    "                }\n",
    "    with open('../filename.txt') as filenames:\n",
    "        for f in filenames:\n",
    "            f = f.strip('\\n')\n",
    "            geo_dict['Region'].append(f)\n",
    "            file = dataset_path + f +\"ept.json\"\n",
    "            geo_dict['File_path'].append(file)\n",
    "            try:\n",
    "                meta = json.load(urlopen(file))\n",
    "                bounds = meta[\"bounds\"]\n",
    "            except:\n",
    "                bounds = None                            \n",
    "            geo_dict['Bounds'].append(bounds)    \n",
    "            \n",
    "            \n",
    "    with open(json_path,\"w\") as json_file:\n",
    "        json.dump(geo_dict,json_file)                 \n",
    "\n",
    "if __name__ == \"__main__\":\n",
    "    get_data(DATASET_PATH,JSON_PATH)"
   ]
  },
  {
   "cell_type": "markdown",
   "id": "091e020c-5eca-46ca-9102-57130e6e1f0e",
   "metadata": {},
   "source": [
    "A bound is an array of 6 numbers\n",
    "[xmin, ymin,zmin,xmax,ymax,zmax]\n",
    "We want to retain xmin,ymin,xmax,ymax"
   ]
  },
  {
   "cell_type": "code",
   "execution_count": 3,
   "id": "1f9ec41d-7cd9-4a54-975c-ccdab801aeac",
   "metadata": {},
   "outputs": [
    {
     "data": {
      "text/html": [
       "<div>\n",
       "<style scoped>\n",
       "    .dataframe tbody tr th:only-of-type {\n",
       "        vertical-align: middle;\n",
       "    }\n",
       "\n",
       "    .dataframe tbody tr th {\n",
       "        vertical-align: top;\n",
       "    }\n",
       "\n",
       "    .dataframe thead th {\n",
       "        text-align: right;\n",
       "    }\n",
       "</style>\n",
       "<table border=\"1\" class=\"dataframe\">\n",
       "  <thead>\n",
       "    <tr style=\"text-align: right;\">\n",
       "      <th></th>\n",
       "      <th>Region</th>\n",
       "      <th>File_path</th>\n",
       "      <th>Bounds</th>\n",
       "    </tr>\n",
       "  </thead>\n",
       "  <tbody>\n",
       "    <tr>\n",
       "      <th>0</th>\n",
       "      <td>AK_BrooksCamp_2012/</td>\n",
       "      <td>https://s3-us-west-2.amazonaws.com/usgs-lidar-...</td>\n",
       "      <td>[-17347360, 8065364, -12414, -17321558, 809116...</td>\n",
       "    </tr>\n",
       "    <tr>\n",
       "      <th>1</th>\n",
       "      <td>AK_Coastal_2009/</td>\n",
       "      <td>https://s3-us-west-2.amazonaws.com/usgs-lidar-...</td>\n",
       "      <td>[-15730544, 10937407, -19027, -15691854, 10976...</td>\n",
       "    </tr>\n",
       "    <tr>\n",
       "      <th>2</th>\n",
       "      <td>AK_Fairbanks-NSBorough_2010/</td>\n",
       "      <td>https://s3-us-west-2.amazonaws.com/usgs-lidar-...</td>\n",
       "      <td>[-16471700, 9519129, -45314, -16381190, 960963...</td>\n",
       "    </tr>\n",
       "    <tr>\n",
       "      <th>3</th>\n",
       "      <td>AK_Juneau_2012/</td>\n",
       "      <td>https://s3-us-west-2.amazonaws.com/usgs-lidar-...</td>\n",
       "      <td>[-15014449, 8012267, -35030, -14943073, 808364...</td>\n",
       "    </tr>\n",
       "    <tr>\n",
       "      <th>4</th>\n",
       "      <td>AK_Kenai_2008/</td>\n",
       "      <td>https://s3-us-west-2.amazonaws.com/usgs-lidar-...</td>\n",
       "      <td>[-16906356, 8303726, -166851, -16570284, 86397...</td>\n",
       "    </tr>\n",
       "  </tbody>\n",
       "</table>\n",
       "</div>"
      ],
      "text/plain": [
       "                         Region  \\\n",
       "0           AK_BrooksCamp_2012/   \n",
       "1              AK_Coastal_2009/   \n",
       "2  AK_Fairbanks-NSBorough_2010/   \n",
       "3               AK_Juneau_2012/   \n",
       "4                AK_Kenai_2008/   \n",
       "\n",
       "                                           File_path  \\\n",
       "0  https://s3-us-west-2.amazonaws.com/usgs-lidar-...   \n",
       "1  https://s3-us-west-2.amazonaws.com/usgs-lidar-...   \n",
       "2  https://s3-us-west-2.amazonaws.com/usgs-lidar-...   \n",
       "3  https://s3-us-west-2.amazonaws.com/usgs-lidar-...   \n",
       "4  https://s3-us-west-2.amazonaws.com/usgs-lidar-...   \n",
       "\n",
       "                                              Bounds  \n",
       "0  [-17347360, 8065364, -12414, -17321558, 809116...  \n",
       "1  [-15730544, 10937407, -19027, -15691854, 10976...  \n",
       "2  [-16471700, 9519129, -45314, -16381190, 960963...  \n",
       "3  [-15014449, 8012267, -35030, -14943073, 808364...  \n",
       "4  [-16906356, 8303726, -166851, -16570284, 86397...  "
      ]
     },
     "execution_count": 3,
     "metadata": {},
     "output_type": "execute_result"
    }
   ],
   "source": [
    "df = pd.read_json(\"../data/data_usgs.json\")\n",
    "df.head()"
   ]
  },
  {
   "cell_type": "code",
   "execution_count": 4,
   "id": "56c8df58-31e5-4be4-851c-6628f86c2587",
   "metadata": {},
   "outputs": [],
   "source": [
    "#Drop the z min and z max values\n",
    "for i in df['Bounds']:\n",
    "    del i[2]\n",
    "for i in df['Bounds']:\n",
    "    del i[4]"
   ]
  },
  {
   "cell_type": "code",
   "execution_count": 5,
   "id": "7f95168f-6e12-414a-b7a8-2b4acb4804ed",
   "metadata": {},
   "outputs": [
    {
     "data": {
      "text/plain": [
       "0      [-17347360, 8065364, -17321558, 8091166]\n",
       "1    [-15730544, 10937407, -15691854, 10976097]\n",
       "2      [-16471700, 9519129, -16381190, 9609639]\n",
       "3      [-15014449, 8012267, -14943073, 8083643]\n",
       "4      [-16906356, 8303726, -16570284, 8639798]\n",
       "5      [-16782341, 8663224, -16678201, 8767364]\n",
       "Name: Bounds, dtype: object"
      ]
     },
     "execution_count": 5,
     "metadata": {},
     "output_type": "execute_result"
    }
   ],
   "source": [
    "df.Bounds.loc[:5]"
   ]
  },
  {
   "cell_type": "markdown",
   "id": "5dd46fab-664e-4871-8c4d-105a685470a1",
   "metadata": {},
   "source": [
    "bounds_list = []\n",
    "x = df.Bounds.loc[:5]\n",
    "def split_list(a_list):\n",
    "    half = len(a_list)//2\n",
    "    return a_list[:half],a_list[half:]\n",
    "\n",
    "for i in df['Bounds']:\n",
    "    bounds = []\n",
    "    a,b = split_list(i)\n",
    "    bounds = tuple([a,b])\n",
    "    bounds_list.append(bounds)"
   ]
  },
  {
   "cell_type": "markdown",
   "id": "7a91f6a2-5b69-458b-aeda-798f8b55bf3e",
   "metadata": {},
   "source": [
    "df['Bounds'] =bounds_list"
   ]
  },
  {
   "cell_type": "code",
   "execution_count": 6,
   "id": "cd2270fd-1926-4b8c-97e7-22e22c6e507a",
   "metadata": {},
   "outputs": [
    {
     "data": {
      "text/html": [
       "<div>\n",
       "<style scoped>\n",
       "    .dataframe tbody tr th:only-of-type {\n",
       "        vertical-align: middle;\n",
       "    }\n",
       "\n",
       "    .dataframe tbody tr th {\n",
       "        vertical-align: top;\n",
       "    }\n",
       "\n",
       "    .dataframe thead th {\n",
       "        text-align: right;\n",
       "    }\n",
       "</style>\n",
       "<table border=\"1\" class=\"dataframe\">\n",
       "  <thead>\n",
       "    <tr style=\"text-align: right;\">\n",
       "      <th></th>\n",
       "      <th>Region</th>\n",
       "      <th>File_path</th>\n",
       "      <th>Bounds</th>\n",
       "    </tr>\n",
       "  </thead>\n",
       "  <tbody>\n",
       "    <tr>\n",
       "      <th>847</th>\n",
       "      <td>USGS_LPC_IL_District4_Warren_2014_LAS_2018/</td>\n",
       "      <td>https://s3-us-west-2.amazonaws.com/usgs-lidar-...</td>\n",
       "      <td>[-10121233, 4956438, -10053481, 5024190]</td>\n",
       "    </tr>\n",
       "    <tr>\n",
       "      <th>332</th>\n",
       "      <td>KY_Eastern_B2_2019/</td>\n",
       "      <td>https://s3-us-west-2.amazonaws.com/usgs-lidar-...</td>\n",
       "      <td>[-9412640, 4438276, -9122740, 4728176]</td>\n",
       "    </tr>\n",
       "    <tr>\n",
       "      <th>557</th>\n",
       "      <td>SC_DarlingtonCo_2008/</td>\n",
       "      <td>https://s3-us-west-2.amazonaws.com/usgs-lidar-...</td>\n",
       "      <td>[-8937867, 4035407, -8865713, 4107561]</td>\n",
       "    </tr>\n",
       "    <tr>\n",
       "      <th>679</th>\n",
       "      <td>USGS_LPC_AL_AGIO_B2_2016_LAS_2019/</td>\n",
       "      <td>https://s3-us-west-2.amazonaws.com/usgs-lidar-...</td>\n",
       "      <td>[-9890337, 3803583, -9727367, 3966553]</td>\n",
       "    </tr>\n",
       "    <tr>\n",
       "      <th>13</th>\n",
       "      <td>AK_NorthSlope_B1_2018/</td>\n",
       "      <td>https://s3-us-west-2.amazonaws.com/usgs-lidar-...</td>\n",
       "      <td>[-15990539, 11105651, -15983447, 11112743]</td>\n",
       "    </tr>\n",
       "  </tbody>\n",
       "</table>\n",
       "</div>"
      ],
      "text/plain": [
       "                                          Region  \\\n",
       "847  USGS_LPC_IL_District4_Warren_2014_LAS_2018/   \n",
       "332                          KY_Eastern_B2_2019/   \n",
       "557                        SC_DarlingtonCo_2008/   \n",
       "679           USGS_LPC_AL_AGIO_B2_2016_LAS_2019/   \n",
       "13                        AK_NorthSlope_B1_2018/   \n",
       "\n",
       "                                             File_path  \\\n",
       "847  https://s3-us-west-2.amazonaws.com/usgs-lidar-...   \n",
       "332  https://s3-us-west-2.amazonaws.com/usgs-lidar-...   \n",
       "557  https://s3-us-west-2.amazonaws.com/usgs-lidar-...   \n",
       "679  https://s3-us-west-2.amazonaws.com/usgs-lidar-...   \n",
       "13   https://s3-us-west-2.amazonaws.com/usgs-lidar-...   \n",
       "\n",
       "                                         Bounds  \n",
       "847    [-10121233, 4956438, -10053481, 5024190]  \n",
       "332      [-9412640, 4438276, -9122740, 4728176]  \n",
       "557      [-8937867, 4035407, -8865713, 4107561]  \n",
       "679      [-9890337, 3803583, -9727367, 3966553]  \n",
       "13   [-15990539, 11105651, -15983447, 11112743]  "
      ]
     },
     "execution_count": 6,
     "metadata": {},
     "output_type": "execute_result"
    }
   ],
   "source": [
    "df.sample(5)"
   ]
  },
  {
   "cell_type": "code",
   "execution_count": 26,
   "id": "f0b6559a-c70c-4b40-b0df-d26db87cca2b",
   "metadata": {},
   "outputs": [],
   "source": [
    "#df.to_csv(\"../data/data.csv\",index=False)"
   ]
  },
  {
   "cell_type": "code",
   "execution_count": 11,
   "id": "ecb62402-02e3-45a2-8e12-0c4a1ea6b30c",
   "metadata": {},
   "outputs": [],
   "source": [
    "#df.to_json(\"../data/clean_data.json\")"
   ]
  },
  {
   "cell_type": "code",
   "execution_count": 9,
   "id": "6dd4dfc4-220c-4045-8f4d-be736964235b",
   "metadata": {},
   "outputs": [],
   "source": [
    "polygon = []\n",
    "for b in df.Bounds:\n",
    "    MINX,MINY,MAXX,MAXY = [b[0],b[1],b[2],b[3]]\n",
    "    poly = Polygon(((MINX, MINY), (MINX, MAXY), (MAXX, MAXY), (MAXX, MINY), (MINX, MINY)))\n",
    "    polygon.append(poly)"
   ]
  },
  {
   "cell_type": "code",
   "execution_count": 10,
   "id": "38172c4f-d867-45a3-bbb7-69d200f4c6d6",
   "metadata": {},
   "outputs": [
    {
     "data": {
      "text/html": [
       "<div>\n",
       "<style scoped>\n",
       "    .dataframe tbody tr th:only-of-type {\n",
       "        vertical-align: middle;\n",
       "    }\n",
       "\n",
       "    .dataframe tbody tr th {\n",
       "        vertical-align: top;\n",
       "    }\n",
       "\n",
       "    .dataframe thead th {\n",
       "        text-align: right;\n",
       "    }\n",
       "</style>\n",
       "<table border=\"1\" class=\"dataframe\">\n",
       "  <thead>\n",
       "    <tr style=\"text-align: right;\">\n",
       "      <th></th>\n",
       "      <th>Region</th>\n",
       "      <th>File_path</th>\n",
       "      <th>Bounds</th>\n",
       "      <th>geometry</th>\n",
       "    </tr>\n",
       "  </thead>\n",
       "  <tbody>\n",
       "    <tr>\n",
       "      <th>0</th>\n",
       "      <td>AK_BrooksCamp_2012/</td>\n",
       "      <td>https://s3-us-west-2.amazonaws.com/usgs-lidar-...</td>\n",
       "      <td>[-17347360, 8065364, -17321558, 8091166]</td>\n",
       "      <td>POLYGON ((-17347360 8065364, -17347360 8091166...</td>\n",
       "    </tr>\n",
       "    <tr>\n",
       "      <th>1</th>\n",
       "      <td>AK_Coastal_2009/</td>\n",
       "      <td>https://s3-us-west-2.amazonaws.com/usgs-lidar-...</td>\n",
       "      <td>[-15730544, 10937407, -15691854, 10976097]</td>\n",
       "      <td>POLYGON ((-15730544 10937407, -15730544 109760...</td>\n",
       "    </tr>\n",
       "    <tr>\n",
       "      <th>2</th>\n",
       "      <td>AK_Fairbanks-NSBorough_2010/</td>\n",
       "      <td>https://s3-us-west-2.amazonaws.com/usgs-lidar-...</td>\n",
       "      <td>[-16471700, 9519129, -16381190, 9609639]</td>\n",
       "      <td>POLYGON ((-16471700 9519129, -16471700 9609639...</td>\n",
       "    </tr>\n",
       "    <tr>\n",
       "      <th>3</th>\n",
       "      <td>AK_Juneau_2012/</td>\n",
       "      <td>https://s3-us-west-2.amazonaws.com/usgs-lidar-...</td>\n",
       "      <td>[-15014449, 8012267, -14943073, 8083643]</td>\n",
       "      <td>POLYGON ((-15014449 8012267, -15014449 8083643...</td>\n",
       "    </tr>\n",
       "    <tr>\n",
       "      <th>4</th>\n",
       "      <td>AK_Kenai_2008/</td>\n",
       "      <td>https://s3-us-west-2.amazonaws.com/usgs-lidar-...</td>\n",
       "      <td>[-16906356, 8303726, -16570284, 8639798]</td>\n",
       "      <td>POLYGON ((-16906356 8303726, -16906356 8639798...</td>\n",
       "    </tr>\n",
       "  </tbody>\n",
       "</table>\n",
       "</div>"
      ],
      "text/plain": [
       "                         Region  \\\n",
       "0           AK_BrooksCamp_2012/   \n",
       "1              AK_Coastal_2009/   \n",
       "2  AK_Fairbanks-NSBorough_2010/   \n",
       "3               AK_Juneau_2012/   \n",
       "4                AK_Kenai_2008/   \n",
       "\n",
       "                                           File_path  \\\n",
       "0  https://s3-us-west-2.amazonaws.com/usgs-lidar-...   \n",
       "1  https://s3-us-west-2.amazonaws.com/usgs-lidar-...   \n",
       "2  https://s3-us-west-2.amazonaws.com/usgs-lidar-...   \n",
       "3  https://s3-us-west-2.amazonaws.com/usgs-lidar-...   \n",
       "4  https://s3-us-west-2.amazonaws.com/usgs-lidar-...   \n",
       "\n",
       "                                       Bounds  \\\n",
       "0    [-17347360, 8065364, -17321558, 8091166]   \n",
       "1  [-15730544, 10937407, -15691854, 10976097]   \n",
       "2    [-16471700, 9519129, -16381190, 9609639]   \n",
       "3    [-15014449, 8012267, -14943073, 8083643]   \n",
       "4    [-16906356, 8303726, -16570284, 8639798]   \n",
       "\n",
       "                                            geometry  \n",
       "0  POLYGON ((-17347360 8065364, -17347360 8091166...  \n",
       "1  POLYGON ((-15730544 10937407, -15730544 109760...  \n",
       "2  POLYGON ((-16471700 9519129, -16471700 9609639...  \n",
       "3  POLYGON ((-15014449 8012267, -15014449 8083643...  \n",
       "4  POLYGON ((-16906356 8303726, -16906356 8639798...  "
      ]
     },
     "execution_count": 10,
     "metadata": {},
     "output_type": "execute_result"
    }
   ],
   "source": [
    "df['geometry'] = polygon\n",
    "df.head()"
   ]
  },
  {
   "cell_type": "code",
   "execution_count": null,
   "id": "c321d5d6-1de4-4c37-9ee6-13fa86ec6f7a",
   "metadata": {},
   "outputs": [],
   "source": [
    "x,y = "
   ]
  },
  {
   "cell_type": "code",
   "execution_count": 9,
   "id": "f5f7d898-5414-4973-8c3c-6af88dfc26b5",
   "metadata": {},
   "outputs": [
    {
     "data": {
      "text/html": [
       "<div>\n",
       "<style scoped>\n",
       "    .dataframe tbody tr th:only-of-type {\n",
       "        vertical-align: middle;\n",
       "    }\n",
       "\n",
       "    .dataframe tbody tr th {\n",
       "        vertical-align: top;\n",
       "    }\n",
       "\n",
       "    .dataframe thead th {\n",
       "        text-align: right;\n",
       "    }\n",
       "</style>\n",
       "<table border=\"1\" class=\"dataframe\">\n",
       "  <thead>\n",
       "    <tr style=\"text-align: right;\">\n",
       "      <th></th>\n",
       "      <th>Region</th>\n",
       "      <th>File_path</th>\n",
       "      <th>Bounds</th>\n",
       "      <th>geometry</th>\n",
       "    </tr>\n",
       "  </thead>\n",
       "  <tbody>\n",
       "    <tr>\n",
       "      <th>0</th>\n",
       "      <td>AK_BrooksCamp_2012/</td>\n",
       "      <td>https://s3-us-west-2.amazonaws.com/usgs-lidar-...</td>\n",
       "      <td>[-17347360, 8065364, -17321558, 8091166]</td>\n",
       "      <td>POLYGON ((-17347360.000 8065364.000, -17347360...</td>\n",
       "    </tr>\n",
       "    <tr>\n",
       "      <th>1</th>\n",
       "      <td>AK_Coastal_2009/</td>\n",
       "      <td>https://s3-us-west-2.amazonaws.com/usgs-lidar-...</td>\n",
       "      <td>[-15730544, 10937407, -15691854, 10976097]</td>\n",
       "      <td>POLYGON ((-15730544.000 10937407.000, -1573054...</td>\n",
       "    </tr>\n",
       "    <tr>\n",
       "      <th>2</th>\n",
       "      <td>AK_Fairbanks-NSBorough_2010/</td>\n",
       "      <td>https://s3-us-west-2.amazonaws.com/usgs-lidar-...</td>\n",
       "      <td>[-16471700, 9519129, -16381190, 9609639]</td>\n",
       "      <td>POLYGON ((-16471700.000 9519129.000, -16471700...</td>\n",
       "    </tr>\n",
       "    <tr>\n",
       "      <th>3</th>\n",
       "      <td>AK_Juneau_2012/</td>\n",
       "      <td>https://s3-us-west-2.amazonaws.com/usgs-lidar-...</td>\n",
       "      <td>[-15014449, 8012267, -14943073, 8083643]</td>\n",
       "      <td>POLYGON ((-15014449.000 8012267.000, -15014449...</td>\n",
       "    </tr>\n",
       "    <tr>\n",
       "      <th>4</th>\n",
       "      <td>AK_Kenai_2008/</td>\n",
       "      <td>https://s3-us-west-2.amazonaws.com/usgs-lidar-...</td>\n",
       "      <td>[-16906356, 8303726, -16570284, 8639798]</td>\n",
       "      <td>POLYGON ((-16906356.000 8303726.000, -16906356...</td>\n",
       "    </tr>\n",
       "  </tbody>\n",
       "</table>\n",
       "</div>"
      ],
      "text/plain": [
       "                         Region  \\\n",
       "0           AK_BrooksCamp_2012/   \n",
       "1              AK_Coastal_2009/   \n",
       "2  AK_Fairbanks-NSBorough_2010/   \n",
       "3               AK_Juneau_2012/   \n",
       "4                AK_Kenai_2008/   \n",
       "\n",
       "                                           File_path  \\\n",
       "0  https://s3-us-west-2.amazonaws.com/usgs-lidar-...   \n",
       "1  https://s3-us-west-2.amazonaws.com/usgs-lidar-...   \n",
       "2  https://s3-us-west-2.amazonaws.com/usgs-lidar-...   \n",
       "3  https://s3-us-west-2.amazonaws.com/usgs-lidar-...   \n",
       "4  https://s3-us-west-2.amazonaws.com/usgs-lidar-...   \n",
       "\n",
       "                                       Bounds  \\\n",
       "0    [-17347360, 8065364, -17321558, 8091166]   \n",
       "1  [-15730544, 10937407, -15691854, 10976097]   \n",
       "2    [-16471700, 9519129, -16381190, 9609639]   \n",
       "3    [-15014449, 8012267, -14943073, 8083643]   \n",
       "4    [-16906356, 8303726, -16570284, 8639798]   \n",
       "\n",
       "                                            geometry  \n",
       "0  POLYGON ((-17347360.000 8065364.000, -17347360...  \n",
       "1  POLYGON ((-15730544.000 10937407.000, -1573054...  \n",
       "2  POLYGON ((-16471700.000 9519129.000, -16471700...  \n",
       "3  POLYGON ((-15014449.000 8012267.000, -15014449...  \n",
       "4  POLYGON ((-16906356.000 8303726.000, -16906356...  "
      ]
     },
     "execution_count": 9,
     "metadata": {},
     "output_type": "execute_result"
    }
   ],
   "source": [
    "gdf = geopandas.GeoDataFrame(df)\n",
    "gdf.head()"
   ]
  },
  {
   "cell_type": "code",
   "execution_count": 10,
   "id": "bb3ab837-3c19-4ba1-b294-30ea70f4f581",
   "metadata": {},
   "outputs": [],
   "source": [
    "gdf['area'] = gdf.area\n",
    "# Returns a GeoSeries of points for each geometric centroid.\n",
    "gdf['centroid'] = gdf.centroid\n",
    "# Returns a GeoSeries of geometries representing the point or smallest rectangular\n",
    "# polygon (with sides parallel to the coordinate axes) that contains each object.\n",
    "gdf['envelope'] = gdf.envelope"
   ]
  },
  {
   "cell_type": "code",
   "execution_count": 14,
   "id": "690bf63a-2fe9-473a-9a5f-e7f1a0306e34",
   "metadata": {},
   "outputs": [
    {
     "data": {
      "text/html": [
       "<div>\n",
       "<style scoped>\n",
       "    .dataframe tbody tr th:only-of-type {\n",
       "        vertical-align: middle;\n",
       "    }\n",
       "\n",
       "    .dataframe tbody tr th {\n",
       "        vertical-align: top;\n",
       "    }\n",
       "\n",
       "    .dataframe thead th {\n",
       "        text-align: right;\n",
       "    }\n",
       "</style>\n",
       "<table border=\"1\" class=\"dataframe\">\n",
       "  <thead>\n",
       "    <tr style=\"text-align: right;\">\n",
       "      <th></th>\n",
       "      <th>Region</th>\n",
       "      <th>geometry</th>\n",
       "      <th>area</th>\n",
       "      <th>centroid</th>\n",
       "      <th>envelope</th>\n",
       "    </tr>\n",
       "  </thead>\n",
       "  <tbody>\n",
       "    <tr>\n",
       "      <th>1544</th>\n",
       "      <td>VT_RockRiver_2008/</td>\n",
       "      <td>POLYGON ((-8159821.000 5579646.000, -8159821.0...</td>\n",
       "      <td>1.999521e+09</td>\n",
       "      <td>POINT (-8137463.000 5602004.000)</td>\n",
       "      <td>POLYGON ((-8159821.000 5579646.000, -8115105.0...</td>\n",
       "    </tr>\n",
       "  </tbody>\n",
       "</table>\n",
       "</div>"
      ],
      "text/plain": [
       "                  Region                                           geometry  \\\n",
       "1544  VT_RockRiver_2008/  POLYGON ((-8159821.000 5579646.000, -8159821.0...   \n",
       "\n",
       "              area                          centroid  \\\n",
       "1544  1.999521e+09  POINT (-8137463.000 5602004.000)   \n",
       "\n",
       "                                               envelope  \n",
       "1544  POLYGON ((-8159821.000 5579646.000, -8115105.0...  "
      ]
     },
     "execution_count": 14,
     "metadata": {},
     "output_type": "execute_result"
    }
   ],
   "source": [
    "gdf = gdf.drop(['File_path','Bounds'],axis=1)\n",
    "gdf.sample()"
   ]
  },
  {
   "cell_type": "code",
   "execution_count": 12,
   "id": "e53ad43d-48cd-48ec-9e8d-39c581f64e82",
   "metadata": {},
   "outputs": [
    {
     "name": "stdout",
     "output_type": "stream",
     "text": [
      "EPSG:4326\n"
     ]
    }
   ],
   "source": [
    "gdf.crs = \"EPSG:4326\"\n",
    "print(gdf.crs)"
   ]
  },
  {
   "cell_type": "code",
   "execution_count": 13,
   "id": "db9a7f2a-c7a0-4528-89b2-714c0b2d1337",
   "metadata": {},
   "outputs": [
    {
     "data": {
      "text/html": [
       "<div>\n",
       "<style scoped>\n",
       "    .dataframe tbody tr th:only-of-type {\n",
       "        vertical-align: middle;\n",
       "    }\n",
       "\n",
       "    .dataframe tbody tr th {\n",
       "        vertical-align: top;\n",
       "    }\n",
       "\n",
       "    .dataframe thead th {\n",
       "        text-align: right;\n",
       "    }\n",
       "</style>\n",
       "<table border=\"1\" class=\"dataframe\">\n",
       "  <thead>\n",
       "    <tr style=\"text-align: right;\">\n",
       "      <th></th>\n",
       "      <th>Region</th>\n",
       "      <th>File_path</th>\n",
       "      <th>Bounds</th>\n",
       "      <th>geometry</th>\n",
       "      <th>area</th>\n",
       "      <th>centroid</th>\n",
       "      <th>envelope</th>\n",
       "    </tr>\n",
       "  </thead>\n",
       "  <tbody>\n",
       "    <tr>\n",
       "      <th>38</th>\n",
       "      <td>ARRA-CA_CentralCoast-Z4_2010/</td>\n",
       "      <td>https://s3-us-west-2.amazonaws.com/usgs-lidar-...</td>\n",
       "      <td>[-13590521, 4270733, -13426673, 4434581]</td>\n",
       "      <td>POLYGON ((-13590521.000 4270733.000, -13590521...</td>\n",
       "      <td>2.684617e+10</td>\n",
       "      <td>POINT (-13508597.000 4352657.000)</td>\n",
       "      <td>POLYGON ((-13590521.000 4270733.000, -13426673...</td>\n",
       "    </tr>\n",
       "  </tbody>\n",
       "</table>\n",
       "</div>"
      ],
      "text/plain": [
       "                           Region  \\\n",
       "38  ARRA-CA_CentralCoast-Z4_2010/   \n",
       "\n",
       "                                            File_path  \\\n",
       "38  https://s3-us-west-2.amazonaws.com/usgs-lidar-...   \n",
       "\n",
       "                                      Bounds  \\\n",
       "38  [-13590521, 4270733, -13426673, 4434581]   \n",
       "\n",
       "                                             geometry          area  \\\n",
       "38  POLYGON ((-13590521.000 4270733.000, -13590521...  2.684617e+10   \n",
       "\n",
       "                             centroid  \\\n",
       "38  POINT (-13508597.000 4352657.000)   \n",
       "\n",
       "                                             envelope  \n",
       "38  POLYGON ((-13590521.000 4270733.000, -13426673...  "
      ]
     },
     "execution_count": 13,
     "metadata": {},
     "output_type": "execute_result"
    }
   ],
   "source": [
    "gdf.sample()"
   ]
  },
  {
   "cell_type": "code",
   "execution_count": 25,
   "id": "fad67f3c-1a31-49cf-bfbd-ff574cf1d53c",
   "metadata": {},
   "outputs": [
    {
     "data": {
      "text/html": [
       "<div style=\"width:100%;\"><div style=\"position:relative;width:100%;height:0;padding-bottom:60%;\"><span style=\"color:#565656\">Make this Notebook Trusted to load map: File -> Trust Notebook</span><iframe src=\"about:blank\" style=\"position:absolute;width:100%;height:100%;left:0;top:0;border:none !important;\" data-html=%3C%21DOCTYPE%20html%3E%0A%3Chead%3E%20%20%20%20%0A%20%20%20%20%3Cmeta%20http-equiv%3D%22content-type%22%20content%3D%22text/html%3B%20charset%3DUTF-8%22%20/%3E%0A%20%20%20%20%0A%20%20%20%20%20%20%20%20%3Cscript%3E%0A%20%20%20%20%20%20%20%20%20%20%20%20L_NO_TOUCH%20%3D%20false%3B%0A%20%20%20%20%20%20%20%20%20%20%20%20L_DISABLE_3D%20%3D%20false%3B%0A%20%20%20%20%20%20%20%20%3C/script%3E%0A%20%20%20%20%0A%20%20%20%20%3Cstyle%3Ehtml%2C%20body%20%7Bwidth%3A%20100%25%3Bheight%3A%20100%25%3Bmargin%3A%200%3Bpadding%3A%200%3B%7D%3C/style%3E%0A%20%20%20%20%3Cstyle%3E%23map%20%7Bposition%3Aabsolute%3Btop%3A0%3Bbottom%3A0%3Bright%3A0%3Bleft%3A0%3B%7D%3C/style%3E%0A%20%20%20%20%3Cscript%20src%3D%22https%3A//cdn.jsdelivr.net/npm/leaflet%401.6.0/dist/leaflet.js%22%3E%3C/script%3E%0A%20%20%20%20%3Cscript%20src%3D%22https%3A//code.jquery.com/jquery-1.12.4.min.js%22%3E%3C/script%3E%0A%20%20%20%20%3Cscript%20src%3D%22https%3A//maxcdn.bootstrapcdn.com/bootstrap/3.2.0/js/bootstrap.min.js%22%3E%3C/script%3E%0A%20%20%20%20%3Cscript%20src%3D%22https%3A//cdnjs.cloudflare.com/ajax/libs/Leaflet.awesome-markers/2.0.2/leaflet.awesome-markers.js%22%3E%3C/script%3E%0A%20%20%20%20%3Clink%20rel%3D%22stylesheet%22%20href%3D%22https%3A//cdn.jsdelivr.net/npm/leaflet%401.6.0/dist/leaflet.css%22/%3E%0A%20%20%20%20%3Clink%20rel%3D%22stylesheet%22%20href%3D%22https%3A//maxcdn.bootstrapcdn.com/bootstrap/3.2.0/css/bootstrap.min.css%22/%3E%0A%20%20%20%20%3Clink%20rel%3D%22stylesheet%22%20href%3D%22https%3A//maxcdn.bootstrapcdn.com/bootstrap/3.2.0/css/bootstrap-theme.min.css%22/%3E%0A%20%20%20%20%3Clink%20rel%3D%22stylesheet%22%20href%3D%22https%3A//maxcdn.bootstrapcdn.com/font-awesome/4.6.3/css/font-awesome.min.css%22/%3E%0A%20%20%20%20%3Clink%20rel%3D%22stylesheet%22%20href%3D%22https%3A//cdnjs.cloudflare.com/ajax/libs/Leaflet.awesome-markers/2.0.2/leaflet.awesome-markers.css%22/%3E%0A%20%20%20%20%3Clink%20rel%3D%22stylesheet%22%20href%3D%22https%3A//cdn.jsdelivr.net/gh/python-visualization/folium/folium/templates/leaflet.awesome.rotate.min.css%22/%3E%0A%20%20%20%20%0A%20%20%20%20%20%20%20%20%20%20%20%20%3Cmeta%20name%3D%22viewport%22%20content%3D%22width%3Ddevice-width%2C%0A%20%20%20%20%20%20%20%20%20%20%20%20%20%20%20%20initial-scale%3D1.0%2C%20maximum-scale%3D1.0%2C%20user-scalable%3Dno%22%20/%3E%0A%20%20%20%20%20%20%20%20%20%20%20%20%3Cstyle%3E%0A%20%20%20%20%20%20%20%20%20%20%20%20%20%20%20%20%23map_0532d79a05cd439ea0fbce860a049d23%20%7B%0A%20%20%20%20%20%20%20%20%20%20%20%20%20%20%20%20%20%20%20%20position%3A%20relative%3B%0A%20%20%20%20%20%20%20%20%20%20%20%20%20%20%20%20%20%20%20%20width%3A%20100.0%25%3B%0A%20%20%20%20%20%20%20%20%20%20%20%20%20%20%20%20%20%20%20%20height%3A%20100.0%25%3B%0A%20%20%20%20%20%20%20%20%20%20%20%20%20%20%20%20%20%20%20%20left%3A%200.0%25%3B%0A%20%20%20%20%20%20%20%20%20%20%20%20%20%20%20%20%20%20%20%20top%3A%200.0%25%3B%0A%20%20%20%20%20%20%20%20%20%20%20%20%20%20%20%20%7D%0A%20%20%20%20%20%20%20%20%20%20%20%20%3C/style%3E%0A%20%20%20%20%20%20%20%20%0A%3C/head%3E%0A%3Cbody%3E%20%20%20%20%0A%20%20%20%20%0A%20%20%20%20%20%20%20%20%20%20%20%20%3Cdiv%20class%3D%22folium-map%22%20id%3D%22map_0532d79a05cd439ea0fbce860a049d23%22%20%3E%3C/div%3E%0A%20%20%20%20%20%20%20%20%0A%3C/body%3E%0A%3Cscript%3E%20%20%20%20%0A%20%20%20%20%0A%20%20%20%20%20%20%20%20%20%20%20%20var%20map_0532d79a05cd439ea0fbce860a049d23%20%3D%20L.map%28%0A%20%20%20%20%20%20%20%20%20%20%20%20%20%20%20%20%22map_0532d79a05cd439ea0fbce860a049d23%22%2C%0A%20%20%20%20%20%20%20%20%20%20%20%20%20%20%20%20%7B%0A%20%20%20%20%20%20%20%20%20%20%20%20%20%20%20%20%20%20%20%20center%3A%20%5B37.0902%2C%20-95.7129%5D%2C%0A%20%20%20%20%20%20%20%20%20%20%20%20%20%20%20%20%20%20%20%20crs%3A%20L.CRS.EPSG3857%2C%0A%20%20%20%20%20%20%20%20%20%20%20%20%20%20%20%20%20%20%20%20zoom%3A%2010%2C%0A%20%20%20%20%20%20%20%20%20%20%20%20%20%20%20%20%20%20%20%20zoomControl%3A%20true%2C%0A%20%20%20%20%20%20%20%20%20%20%20%20%20%20%20%20%20%20%20%20preferCanvas%3A%20false%2C%0A%20%20%20%20%20%20%20%20%20%20%20%20%20%20%20%20%7D%0A%20%20%20%20%20%20%20%20%20%20%20%20%29%3B%0A%0A%20%20%20%20%20%20%20%20%20%20%20%20%0A%0A%20%20%20%20%20%20%20%20%0A%20%20%20%20%0A%20%20%20%20%20%20%20%20%20%20%20%20var%20tile_layer_cbbe176106f845be9bb8ffd582310a9d%20%3D%20L.tileLayer%28%0A%20%20%20%20%20%20%20%20%20%20%20%20%20%20%20%20%22https%3A//cartodb-basemaps-%7Bs%7D.global.ssl.fastly.net/light_all/%7Bz%7D/%7Bx%7D/%7By%7D.png%22%2C%0A%20%20%20%20%20%20%20%20%20%20%20%20%20%20%20%20%7B%22attribution%22%3A%20%22%5Cu0026copy%3B%20%5Cu003ca%20href%3D%5C%22http%3A//www.openstreetmap.org/copyright%5C%22%5Cu003eOpenStreetMap%5Cu003c/a%5Cu003e%20contributors%20%5Cu0026copy%3B%20%5Cu003ca%20href%3D%5C%22http%3A//cartodb.com/attributions%5C%22%5Cu003eCartoDB%5Cu003c/a%5Cu003e%2C%20CartoDB%20%5Cu003ca%20href%20%3D%5C%22http%3A//cartodb.com/attributions%5C%22%5Cu003eattributions%5Cu003c/a%5Cu003e%22%2C%20%22detectRetina%22%3A%20false%2C%20%22maxNativeZoom%22%3A%2018%2C%20%22maxZoom%22%3A%2018%2C%20%22minZoom%22%3A%200%2C%20%22noWrap%22%3A%20false%2C%20%22opacity%22%3A%201%2C%20%22subdomains%22%3A%20%22abc%22%2C%20%22tms%22%3A%20false%7D%0A%20%20%20%20%20%20%20%20%20%20%20%20%29.addTo%28map_0532d79a05cd439ea0fbce860a049d23%29%3B%0A%20%20%20%20%20%20%20%20%0A%3C/script%3E onload=\"this.contentDocument.open();this.contentDocument.write(    decodeURIComponent(this.getAttribute('data-html')));this.contentDocument.close();\" allowfullscreen webkitallowfullscreen mozallowfullscreen></iframe></div></div>"
      ],
      "text/plain": [
       "<folium.folium.Map at 0x7f2a8b246d60>"
      ]
     },
     "execution_count": 25,
     "metadata": {},
     "output_type": "execute_result"
    }
   ],
   "source": [
    "m = folium.Map(location=[37.0902,-95.7129], zoom_start=10, tiles='CartoDB positron')\n",
    "m"
   ]
  },
  {
   "cell_type": "code",
   "execution_count": 28,
   "id": "38aab69a-8c37-46c2-a8c2-7a472c663293",
   "metadata": {},
   "outputs": [
    {
     "name": "stderr",
     "output_type": "stream",
     "text": [
      "/tmp/ipykernel_19979/3024331562.py:1: UserWarning: Geometry is in a geographic CRS. Results from 'centroid' are likely incorrect. Use 'GeoSeries.to_crs()' to re-project geometries to a projected CRS before this operation.\n",
      "\n",
      "  gdf['lat'] = gdf.centroid.y\n",
      "/tmp/ipykernel_19979/3024331562.py:2: UserWarning: Geometry is in a geographic CRS. Results from 'centroid' are likely incorrect. Use 'GeoSeries.to_crs()' to re-project geometries to a projected CRS before this operation.\n",
      "\n",
      "  gdf['lon'] = gdf.centroid.x\n"
     ]
    },
    {
     "data": {
      "text/html": [
       "<div>\n",
       "<style scoped>\n",
       "    .dataframe tbody tr th:only-of-type {\n",
       "        vertical-align: middle;\n",
       "    }\n",
       "\n",
       "    .dataframe tbody tr th {\n",
       "        vertical-align: top;\n",
       "    }\n",
       "\n",
       "    .dataframe thead th {\n",
       "        text-align: right;\n",
       "    }\n",
       "</style>\n",
       "<table border=\"1\" class=\"dataframe\">\n",
       "  <thead>\n",
       "    <tr style=\"text-align: right;\">\n",
       "      <th></th>\n",
       "      <th>Region</th>\n",
       "      <th>geometry</th>\n",
       "      <th>area</th>\n",
       "      <th>centroid</th>\n",
       "      <th>envelope</th>\n",
       "      <th>lat</th>\n",
       "      <th>lon</th>\n",
       "    </tr>\n",
       "  </thead>\n",
       "  <tbody>\n",
       "    <tr>\n",
       "      <th>0</th>\n",
       "      <td>AK_BrooksCamp_2012/</td>\n",
       "      <td>POLYGON ((-17347360.000 8065364.000, -17347360...</td>\n",
       "      <td>6.657432e+08</td>\n",
       "      <td>POINT (-17334459.000 8078265.000)</td>\n",
       "      <td>POLYGON ((-17347360.000 8065364.000, -17321558...</td>\n",
       "      <td>8078265.0</td>\n",
       "      <td>-17334459.0</td>\n",
       "    </tr>\n",
       "    <tr>\n",
       "      <th>1</th>\n",
       "      <td>AK_Coastal_2009/</td>\n",
       "      <td>POLYGON ((-15730544.000 10937407.000, -1573054...</td>\n",
       "      <td>1.496916e+09</td>\n",
       "      <td>POINT (-15711199.000 10956752.000)</td>\n",
       "      <td>POLYGON ((-15730544.000 10937407.000, -1569185...</td>\n",
       "      <td>10956752.0</td>\n",
       "      <td>-15711199.0</td>\n",
       "    </tr>\n",
       "    <tr>\n",
       "      <th>2</th>\n",
       "      <td>AK_Fairbanks-NSBorough_2010/</td>\n",
       "      <td>POLYGON ((-16471700.000 9519129.000, -16471700...</td>\n",
       "      <td>8.192060e+09</td>\n",
       "      <td>POINT (-16426445.000 9564384.000)</td>\n",
       "      <td>POLYGON ((-16471700.000 9519129.000, -16381190...</td>\n",
       "      <td>9564384.0</td>\n",
       "      <td>-16426445.0</td>\n",
       "    </tr>\n",
       "    <tr>\n",
       "      <th>3</th>\n",
       "      <td>AK_Juneau_2012/</td>\n",
       "      <td>POLYGON ((-15014449.000 8012267.000, -15014449...</td>\n",
       "      <td>5.094533e+09</td>\n",
       "      <td>POINT (-14978761.000 8047955.000)</td>\n",
       "      <td>POLYGON ((-15014449.000 8012267.000, -14943073...</td>\n",
       "      <td>8047955.0</td>\n",
       "      <td>-14978761.0</td>\n",
       "    </tr>\n",
       "    <tr>\n",
       "      <th>4</th>\n",
       "      <td>AK_Kenai_2008/</td>\n",
       "      <td>POLYGON ((-16906356.000 8303726.000, -16906356...</td>\n",
       "      <td>1.129444e+11</td>\n",
       "      <td>POINT (-16738320.000 8471762.000)</td>\n",
       "      <td>POLYGON ((-16906356.000 8303726.000, -16570284...</td>\n",
       "      <td>8471762.0</td>\n",
       "      <td>-16738320.0</td>\n",
       "    </tr>\n",
       "  </tbody>\n",
       "</table>\n",
       "</div>"
      ],
      "text/plain": [
       "                         Region  \\\n",
       "0           AK_BrooksCamp_2012/   \n",
       "1              AK_Coastal_2009/   \n",
       "2  AK_Fairbanks-NSBorough_2010/   \n",
       "3               AK_Juneau_2012/   \n",
       "4                AK_Kenai_2008/   \n",
       "\n",
       "                                            geometry          area  \\\n",
       "0  POLYGON ((-17347360.000 8065364.000, -17347360...  6.657432e+08   \n",
       "1  POLYGON ((-15730544.000 10937407.000, -1573054...  1.496916e+09   \n",
       "2  POLYGON ((-16471700.000 9519129.000, -16471700...  8.192060e+09   \n",
       "3  POLYGON ((-15014449.000 8012267.000, -15014449...  5.094533e+09   \n",
       "4  POLYGON ((-16906356.000 8303726.000, -16906356...  1.129444e+11   \n",
       "\n",
       "                             centroid  \\\n",
       "0   POINT (-17334459.000 8078265.000)   \n",
       "1  POINT (-15711199.000 10956752.000)   \n",
       "2   POINT (-16426445.000 9564384.000)   \n",
       "3   POINT (-14978761.000 8047955.000)   \n",
       "4   POINT (-16738320.000 8471762.000)   \n",
       "\n",
       "                                            envelope         lat         lon  \n",
       "0  POLYGON ((-17347360.000 8065364.000, -17321558...   8078265.0 -17334459.0  \n",
       "1  POLYGON ((-15730544.000 10937407.000, -1569185...  10956752.0 -15711199.0  \n",
       "2  POLYGON ((-16471700.000 9519129.000, -16381190...   9564384.0 -16426445.0  \n",
       "3  POLYGON ((-15014449.000 8012267.000, -14943073...   8047955.0 -14978761.0  \n",
       "4  POLYGON ((-16906356.000 8303726.000, -16570284...   8471762.0 -16738320.0  "
      ]
     },
     "execution_count": 28,
     "metadata": {},
     "output_type": "execute_result"
    }
   ],
   "source": [
    "gdf['lat'] = gdf.centroid.y\n",
    "gdf['lon'] = gdf.centroid.x\n",
    "gdf.head()"
   ]
  },
  {
   "cell_type": "code",
   "execution_count": 27,
   "id": "70997913-a84f-4f80-b03f-0145275edd62",
   "metadata": {},
   "outputs": [
    {
     "name": "stderr",
     "output_type": "stream",
     "text": [
      "/tmp/ipykernel_19979/3195566992.py:3: UserWarning: Geometry is in a geographic CRS. Results from 'centroid' are likely incorrect. Use 'GeoSeries.to_crs()' to re-project geometries to a projected CRS before this operation.\n",
      "\n",
      "  cent_x =gdf['geometry'].centroid.x.mean()\n",
      "/tmp/ipykernel_19979/3195566992.py:4: UserWarning: Geometry is in a geographic CRS. Results from 'centroid' are likely incorrect. Use 'GeoSeries.to_crs()' to re-project geometries to a projected CRS before this operation.\n",
      "\n",
      "  cent_y =gdf['geometry'].centroid.y.mean()\n"
     ]
    },
    {
     "ename": "NameError",
     "evalue": "name 'usa_g' is not defined",
     "output_type": "error",
     "traceback": [
      "\u001b[0;31m---------------------------------------------------------------------------\u001b[0m",
      "\u001b[0;31mNameError\u001b[0m                                 Traceback (most recent call last)",
      "\u001b[0;32m/tmp/ipykernel_19979/3195566992.py\u001b[0m in \u001b[0;36m<module>\u001b[0;34m\u001b[0m\n\u001b[1;32m     12\u001b[0m choro = folium.Choropleth(geo_data=gdf,\n\u001b[1;32m     13\u001b[0m                          \u001b[0mname\u001b[0m\u001b[0;34m=\u001b[0m\u001b[0;34m'choropleth'\u001b[0m\u001b[0;34m,\u001b[0m\u001b[0;34m\u001b[0m\u001b[0;34m\u001b[0m\u001b[0m\n\u001b[0;32m---> 14\u001b[0;31m                           \u001b[0mdata\u001b[0m\u001b[0;34m=\u001b[0m\u001b[0musa_g\u001b[0m\u001b[0;34m,\u001b[0m\u001b[0;34m\u001b[0m\u001b[0;34m\u001b[0m\u001b[0m\n\u001b[0m\u001b[1;32m     15\u001b[0m                           \u001b[0mcolumns\u001b[0m\u001b[0;34m=\u001b[0m\u001b[0;34m[\u001b[0m\u001b[0;34m'NAME_2'\u001b[0m\u001b[0;34m,\u001b[0m \u001b[0;34m'area'\u001b[0m\u001b[0;34m]\u001b[0m\u001b[0;34m,\u001b[0m\u001b[0;34m\u001b[0m\u001b[0;34m\u001b[0m\u001b[0m\n\u001b[1;32m     16\u001b[0m \u001b[0;31m#                           key_on='feature.NAME_2',\u001b[0m\u001b[0;34m\u001b[0m\u001b[0;34m\u001b[0m\u001b[0;34m\u001b[0m\u001b[0m\n",
      "\u001b[0;31mNameError\u001b[0m: name 'usa_g' is not defined"
     ]
    }
   ],
   "source": [
    "# Estimate centroids of the country\n",
    "# --------------------\n",
    "cent_x =gdf['geometry'].centroid.x.mean()\n",
    "cent_y =gdf['geometry'].centroid.y.mean()\n",
    "\n",
    "# Create a map object using Folium\n",
    "# --------------------\n",
    "map_usa = folium.Map(location=[cent_y, cent_x], zoom_start=7, tiles='OpenStreetMap')  \n",
    "\n",
    "# Create the choropleth map\n",
    "# --------------------\n",
    "choro = folium.Choropleth(geo_data=gdf,\n",
    "                         name='choropleth',     \n",
    "                          data=usa_g,\n",
    "                          columns=['NAME_2', 'area'], \n",
    "#                           key_on='feature.NAME_2', \n",
    "                          fill_color='YlOrRd',\n",
    "                          fill_opacity=0.6, \n",
    "                          line_opacity=0.8,\n",
    "                          legend_name= \"Area size across USA's subregion\"\n",
    "                          ).add_to(map_usa) \n",
    "\n",
    "# add labels to map\n",
    "choro.geojson.add_child(folium.features.GeoJsonTooltip(fields=['NAME_2', 'area'],\n",
    "                                                       aliases=['County', 'Mass'], \n",
    "                                                       labels = False))\n",
    "folium.LayerControl().add_to(map_usa)\n",
    "\n",
    "\n",
    "map_usa"
   ]
  },
  {
   "cell_type": "code",
   "execution_count": null,
   "id": "7742f8af-92a5-4864-a6fe-27f4712b815e",
   "metadata": {},
   "outputs": [],
   "source": []
  },
  {
   "cell_type": "code",
   "execution_count": null,
   "id": "11514f79-6811-419a-9e47-c9b27f8df2e3",
   "metadata": {},
   "outputs": [],
   "source": []
  }
 ],
 "metadata": {
  "kernelspec": {
   "display_name": "Python 3 (ipykernel)",
   "language": "python",
   "name": "python3"
  },
  "language_info": {
   "codemirror_mode": {
    "name": "ipython",
    "version": 3
   },
   "file_extension": ".py",
   "mimetype": "text/x-python",
   "name": "python",
   "nbconvert_exporter": "python",
   "pygments_lexer": "ipython3",
   "version": "3.9.6"
  }
 },
 "nbformat": 4,
 "nbformat_minor": 5
}
